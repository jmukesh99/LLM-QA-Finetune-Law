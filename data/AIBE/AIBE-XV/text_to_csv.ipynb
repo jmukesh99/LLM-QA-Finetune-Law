{
 "cells": [
  {
   "cell_type": "code",
   "execution_count": 1,
   "metadata": {},
   "outputs": [],
   "source": [
    "import pandas as pd"
   ]
  },
  {
   "cell_type": "code",
   "execution_count": 2,
   "metadata": {},
   "outputs": [],
   "source": [
    "import json\n",
    "import re\n",
    "\n",
    "with open('AIBE-XV-Silver.txt', 'r') as file:\n",
    "    lines = file.readlines()\n",
    "\n",
    "Ans_key = None\n",
    "Exp_key = None\n",
    "output = []\n",
    "\n",
    "for line in lines:\n",
    "    line = line.strip()\n",
    "    if not line:\n",
    "        continue\n",
    "\n",
    "    if re.match(r\"^[abcd]\\)\", line):\n",
    "        if Ans_key is not None and Exp_key is not None:\n",
    "            output.append({\"Answer\": Ans_key, \"Explanation\": Exp_key})\n",
    "\n",
    "        Ans_key = line\n",
    "        Exp_key = None\n",
    "\n",
    "    else:\n",
    "        Exp_key = line if Exp_key is None else Exp_key + \" \" + line\n",
    "\n",
    "if Ans_key is not None and Exp_key is not None:\n",
    "    output.append({\"Answer\": Ans_key, \"Explanation\": Exp_key})\n",
    "\n",
    "output_json = json.dumps(output, indent=4)\n",
    "\n",
    "with open(\"AIBE-XV-Silver-Answer.json\", \"w\") as file:\n",
    "    file.write(output_json)\n",
    "\n"
   ]
  },
  {
   "cell_type": "code",
   "execution_count": null,
   "metadata": {},
   "outputs": [],
   "source": [
    "import pandas as pd\n",
    "df_2 = pd.read_json(\"AIBE-XV-Silver-Answer.json\")\n",
    "\n",
    "df_2.to_csv(\"AIBE-XV-Silver-Answer.csv\", index = False)"
   ]
  }
 ],
 "metadata": {
  "kernelspec": {
   "display_name": "Python 3",
   "language": "python",
   "name": "python3"
  },
  "language_info": {
   "codemirror_mode": {
    "name": "ipython",
    "version": 3
   },
   "file_extension": ".py",
   "mimetype": "text/x-python",
   "name": "python",
   "nbconvert_exporter": "python",
   "pygments_lexer": "ipython3",
   "version": "3.11.4"
  },
  "orig_nbformat": 4
 },
 "nbformat": 4,
 "nbformat_minor": 2
}
